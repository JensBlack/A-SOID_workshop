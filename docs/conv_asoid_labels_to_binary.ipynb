{
 "cells": [
  {
   "cell_type": "code",
   "execution_count": 9,
   "metadata": {
    "collapsed": true
   },
   "outputs": [],
   "source": [
    "from asoid.utils.project_utils import load_config\n",
    "from asoid.utils.load_workspace import _load_sav\n",
    "import numpy as np\n",
    "import pandas as pd\n",
    "import os\n",
    "import joblib"
   ]
  },
  {
   "cell_type": "markdown",
   "source": [
    "## First: Select a project by entering the project folder and prefix"
   ],
   "metadata": {
    "collapsed": false
   }
  },
  {
   "cell_type": "code",
   "execution_count": 32,
   "outputs": [
    {
     "name": "stdout",
     "output_type": "stream",
     "text": [
      "Project imported:  Feb-14-2023_Interaction_disc_allgroups\n"
     ]
    }
   ],
   "source": [
    "asoid_folder = \"D:\\AsoidProjects\\SIT\"\n",
    "prefix = \"Feb-14-2023_Interaction_disc_allgroups\"\n",
    "project_path = os.path.join(asoid_folder, prefix)\n",
    "\n",
    "config, _ = load_config(project_path)\n",
    "\n",
    "print(\"Project imported: \", config[\"Project\"].get(\"PROJECT_NAME\"))"
   ],
   "metadata": {
    "collapsed": false
   }
  },
  {
   "cell_type": "markdown",
   "source": [
    "### Now we load the data from that project"
   ],
   "metadata": {
    "collapsed": false
   }
  },
  {
   "cell_type": "code",
   "execution_count": 33,
   "outputs": [
    {
     "name": "stdout",
     "output_type": "stream",
     "text": [
      "Found 42 annotation files in DATA.\n",
      "Found following 42 file names in config: \n",
      " ['16726_T1_Resident.csv', '16726_T2_Resident.csv', '16726_T3_Resident.csv', '16726_T4_Resident.csv', '16726_T5_Resident.csv', '16726_T6_Resident.csv', '16727_T1_Resident.csv', '16727_T2_Resident.csv', '16727_T3_Resident.csv', '16727_T4_Resident.csv', '16727_T5_Resident.csv', '16727_T6_Resident.csv', '16753_T1_Resident.csv', '16753_T2_Resident.csv', '16753_T3_Resident.csv', '16753_T4_Resident.csv', '16753_T5_Resident.csv', '16753_T6_Resident.csv', '16755_T1_Resident.csv', '16755_T2_Resident.csv', '16755_T3_Resident.csv', '16755_T4_Resident.csv', '16755_T5_Resident.csv', '16755_T6_Resident.csv', '17095_T1_Resident.csv', '17095_T2_Resident.csv', '17095_T3_Resident.csv', '17095_T4_Resident.csv', '17095_T5_Resident.csv', '17095_T6_Resident.csv', '17096_T1_Resident.csv', '17096_T2_Resident.csv', '17096_T3_Resident.csv', '17096_T4_Resident.csv', '17096_T5_Resident.csv', '17096_T6_Resident.csv', '17098_T1_Resident.csv', '17098_T2_Resident.csv', '17098_T3_Resident.csv', '17098_T4_Resident.csv', '17098_T5_Resident.csv', '17098_T6_Resident.csv']\n"
     ]
    }
   ],
   "source": [
    "#mimicking load_data from the app\n",
    "data = _load_sav(asoid_folder, prefix, \"data.sav\")\n",
    "data = [i for i in data]\n",
    "[_, targets] = data\n",
    "\n",
    "print(f\"Found {targets.shape[0]} annotation files in DATA.\")\n",
    "\n",
    "#get file names from config\n",
    "\n",
    "label_file_names = [x.strip() for x in config[\"Data\"].get(\"LABEL_INPUT_FILES\").split(\",\")]\n",
    "print(f\"Found following {len(label_file_names)} file names in config: \\n\", label_file_names)"
   ],
   "metadata": {
    "collapsed": false
   }
  },
  {
   "cell_type": "markdown",
   "source": [
    "### now we transform each entry of targets into the binary format with the original column names taken from the config"
   ],
   "metadata": {
    "collapsed": false
   }
  },
  {
   "cell_type": "code",
   "execution_count": 37,
   "outputs": [
    {
     "name": "stdout",
     "output_type": "stream",
     "text": [
      "Found following classes: \n",
      " {0: 'Interaction', 1: 'No Interaction', 2: 'Sub-Interaction group 0', 3: 'Sub-Interaction group 1', 4: 'Sub-Interaction group 2', 5: 'Sub-Interaction group 3', 6: 'Sub-Interaction group 4', 7: 'Sub-Interaction group 5', 8: 'Sub-Interaction group 6', 9: 'Sub-Interaction group 7', 10: 'Sub-Interaction group 8', 11: 'Sub-Interaction group 9', 12: 'other'}\n"
     ]
    }
   ],
   "source": [
    "classes = [x.strip() for x in config[\"Project\"].get(\"CLASSES\").split(\",\")]\n",
    "num_to_class = {n: x for n,x in enumerate(classes)}\n",
    "\n",
    "print(\"Found following classes: \\n\", num_to_class)\n",
    "\n"
   ],
   "metadata": {
    "collapsed": false
   }
  },
  {
   "cell_type": "markdown",
   "source": [
    "## Now export the labels as binary csv files with their original file name + \"_exp\""
   ],
   "metadata": {
    "collapsed": false
   }
  },
  {
   "cell_type": "code",
   "execution_count": null,
   "outputs": [],
   "source": [
    "exp_annotations = targets.copy()\n",
    "for num, j in enumerate(exp_annotations):\n",
    "    df = pd.Series(j)\n",
    "    for n_class, k_class in num_to_class.items():\n",
    "        df[df == n_class] = k_class\n",
    "\n",
    "    #transform into binary\n",
    "    df_dummies = pd.get_dummies(df)\n",
    "    #save as csv with new filename\n",
    "    fname = label_file_names[num].split(\".\")[0] + \"_exp.csv\"\n",
    "    df_dummies.to_csv(os.path.join(project_path, fname ))"
   ],
   "metadata": {
    "collapsed": false
   }
  },
  {
   "cell_type": "markdown",
   "source": [],
   "metadata": {
    "collapsed": false
   }
  }
 ],
 "metadata": {
  "kernelspec": {
   "display_name": "Python 3",
   "language": "python",
   "name": "python3"
  },
  "language_info": {
   "codemirror_mode": {
    "name": "ipython",
    "version": 2
   },
   "file_extension": ".py",
   "mimetype": "text/x-python",
   "name": "python",
   "nbconvert_exporter": "python",
   "pygments_lexer": "ipython2",
   "version": "2.7.6"
  }
 },
 "nbformat": 4,
 "nbformat_minor": 0
}
